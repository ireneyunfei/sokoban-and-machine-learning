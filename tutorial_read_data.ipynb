{
 "cells": [
  {
   "cell_type": "markdown",
   "metadata": {},
   "source": [
    "# Tutorial for the Analysis of Sokoban Logfiles using Machine Learning (1)\n",
    "# Read the data"
   ]
  },
  {
   "cell_type": "markdown",
   "metadata": {},
   "source": [
    "## Basic Introduction\n",
    "\n",
    "These documents introduces the detailed procedures of using machine learning techniques to analyze the logfiles of sokoban. Here is the first part, reading data.\n",
    "\n",
    "Languages used include Python (3.0+) and R. I recommend you install [anaconda](https://www.continuum.io/downloads), a data science platform including all the tools and packages we need.\n",
    "\n",
    "To write code in Python, the IDE Spyder is highly recommended. It provides a matlab-like interface, and also interactive programming experience, which is very handy in data analysis. Meanwhile, Pycharm, Visual Studio Code and sublime text are also very good IDEs.\n",
    "\n",
    "For R, RStudio is the most renowned IDE. There is no better choice.\n",
    "\n",
    "This tutorial is written in Jupyter Notebook, which allows the combination of documents and live codes.\n",
    "\n",
    "All these tools can be installed by anaconda.\n",
    "\n",
    "You may want to read tutorials for R and Python [here](). Besides the basics syntax of languages, you are also encouraged (or even required) to read documentations for packages such as scikit-learning in Python and data.table in R."
   ]
  },
  {
   "cell_type": "markdown",
   "metadata": {},
   "source": [
    "## Locating the logfiles\n",
    "\n",
    "The first step (and the most tedious step) of the project is to read the data in the format of xml, and translate them into a format readable to Machine-Learning tools. To do so, let's locate all students' logfiles."
   ]
  },
  {
   "cell_type": "code",
   "execution_count": 13,
   "metadata": {
    "collapsed": false
   },
   "outputs": [
    {
     "name": "stdout",
     "output_type": "stream",
     "text": [
      "['190101', '190102', '190103', '190104', '190105']...\n",
      "219 folders contains sokoban data in the folder Grade 1-Sokoban+GL\n",
      "['180102', '180103', '180104', '180105', '180106']...\n",
      "159 folders contains sokoban data in the folder Sokoban+Genetics\n",
      "378 folders in total.\n"
     ]
    }
   ],
   "source": [
    "import os\n",
    "from bs4 import BeautifulSoup\n",
    "import os\n",
    "import pickle\n",
    "import sys\n",
    "import numpy\n",
    "\n",
    "cwd1 = \"{}{}Grade 1-Sokoban+GL\".format(os.getcwd(),os.sep)\n",
    "folders = list(filter(lambda x: os.path.isdir(cwd1 + os.sep + x),\n",
    "                      os.listdir(cwd1)))\n",
    "folders = list(filter(lambda x: os.path.isfile(cwd1 + os.sep + x +\n",
    "                                     os.sep + x + '02.xml'), folders))\n",
    "print(folders[0:5], end = '...\\n')\n",
    "print('{} folders contains sokoban data in the folder Grade 1-Sokoban+GL'.format(len(folders)))\n",
    "cwd2 = \"{}{}Sokoban+Genetics\".format(os.getcwd(),os.sep)\n",
    "folders2 = list(filter(lambda x: os.path.isdir(cwd2 + os.sep + x),\n",
    "                      os.listdir(cwd2)))\n",
    "folders2 = list(filter(lambda x: os.path.isfile(cwd2 + os.sep + x +\n",
    "                                     os.sep + x + '01.xml'), folders2))\n",
    "print(folders2[0:5], end = '...\\n')\n",
    "print('{} folders contains sokoban data in the folder Sokoban+Genetics'.format(len(folders2)))\n",
    "folders.extend(folders2)\n",
    "print('{} folders in total.'.format(len(folders)))"
   ]
  },
  {
   "cell_type": "markdown",
   "metadata": {},
   "source": [
    "## Preparation\n",
    "### Build a dictionary to translate Chinese tags into English for further Parsing\n",
    "\n",
    "In order to use BeautifulSoup to parse the xml file, we have to translate the Chinese tags into English.\n",
    "\n",
    "Actually, the package xml.eTree.ElementTree can handle Chinese tags more readily without translation. Due to Time limitation, I have not implemented it in this file, while a sample code of using this package to read Sokoban logfile could be found [here](link.needed).\n",
    "\n",
    "We have a translation dictionary \"translate_dictionary.txt\" containing the Chinese and corresponding English tags.\n",
    "\n",
    "The first 9 lines of the dictionary are as follows:\n",
    ">本关用时 guan_time  \n",
    ">移动路径 path  \n",
    ">路径时间 path_time  \n",
    ">首次移动人物时间 first_move_time  \n",
    ">首次移动箱子时间 first_push_time  \n",
    ">本关结果 result  \n",
    ">第1关 guan  \n",
    ">第2关 guan  \n",
    ">第3关 guan  \n",
    ">..."
   ]
  },
  {
   "cell_type": "code",
   "execution_count": 14,
   "metadata": {
    "collapsed": false
   },
   "outputs": [],
   "source": [
    "transdic_content = open(\"translate_dictionary.txt\", 'r', encoding='utf-8')\n",
    "lines = transdic_content.read().splitlines()\n",
    "dic = {}\n",
    "for line in lines:\n",
    "    key = line.split(' ')[0]\n",
    "    val = line.split(' ')[1]\n",
    "    dic[key] = val"
   ]
  },
  {
   "cell_type": "markdown",
   "metadata": {},
   "source": [
    "### Create classes\n",
    "\n",
    "Our idea is to use classes to do the reading-data work. Those classes can receive the logfiles in strings, parse them into variables, and finally return a formatted string containing those variables.\n",
    "\n",
    "We define two hierarchical classes to process the data: Student and Guan."
   ]
  },
  {
   "cell_type": "code",
   "execution_count": 15,
   "metadata": {
    "collapsed": true
   },
   "outputs": [],
   "source": [
    "from BFS_sokoban import visitedmap\n",
    "'''\n",
    "# This package is for solving the sokoban games. Function visitedmap can generate tracks of a subject's path, namely, \n",
    "a list of states (defined as the position of the person and boxes) from a given path, and the \"guansolution_list\" used \n",
    "in below is generated by another file ''solve_sokoban.py''. You do not need to fully understand how it works, as \n",
    "long as you know what I'm doing when I called them.\n",
    "'''\n",
    "\n",
    "class Student(object):\n",
    "    \n",
    "    def __init__(self, id, stu_soup, guansolution_list):\n",
    "        '''\n",
    "        The init method receives three arguments, id, which denotes the ID (the name of the folder) of a student;\n",
    "        stu_soup, a bs4.BeautifulSoup object conataining the logfile data, generaged by BeautifulSoup, and \n",
    "        guansolution_list, consisting of tuples. Each tuple consists of 4 components, the level (ID of the guan), \n",
    "        the optimal path (a string), the number of steps, and the track (generated by the function vistedmap).\n",
    "        '''\n",
    "        self.id = id\n",
    "        guan_soup_list = stu_soup.find_all('guan') #find_all method can extract all subnodes whose tags are 'guan'\n",
    "        self.guan_list = [] #initialize a list to store data of each guan.\n",
    "        for i, guan_soup in enumerate(guan_soup_list):\n",
    "            if guan_soup.guan_time.string != '\\n': # skip the guan where guan_time (本关用时) is empty ('\\n' denotes newline)\n",
    "                guan = Guan(i, guan_soup, guansolution_list[i]) # Use class Guan to process guan data.\n",
    "                self.guan_list.append(guan)\n",
    "\n",
    "    def export(self, varname):\n",
    "        '''\n",
    "        This method receives a list containing the variable names intended to be exported, and concatenate them into a \n",
    "        string.\n",
    "        '''\n",
    "        output_str = ''\n",
    "        for guan in self.guan_list:\n",
    "            guan_output_str = guan.guan_export(varname) # transfer variable name to guan_export method.\n",
    "            output_str = output_str + self.id + guan_output_str\n",
    "        return output_str\n",
    "\n",
    "class Guan(object):\n",
    "    def __init__(self, num, guan_soup, guansolution):\n",
    "        self.export = {} #define the dictionary of variables to export.\n",
    "        self.export[\"num\"] = num+1 #since num starts from 0. Adding one will make the index more natural.\n",
    "        self.export[\"guan_time\"] = float(guan_soup.guan_time.string)\n",
    "        first_move_time_str = guan_soup.first_move_time.string\n",
    "        if len(first_move_time_str) > 1:\n",
    "            self.export[\"first_move_time\"] = float(first_move_time_str[0:-2])\n",
    "        else:\n",
    "            self.export[\"first_move_time\"] = 'NA'\n",
    "        first_push_time_str = guan_soup.first_push_time.string\n",
    "        if len(first_push_time_str) > 1:\n",
    "            self.export[\"first_push_time\"] = float(first_push_time_str[0:-2])\n",
    "        else:\n",
    "            self.export['first_push_time'] = 'NA'\n",
    "        self.result = guan_soup.result.string\n",
    "        result_splited = self.result.split('：')\n",
    "        if result_splited[0] == '正确':\n",
    "            self.export[\"result_flag\"] = 1\n",
    "        if result_splited[0] == '步数过多':\n",
    "            self.export[\"result_flag\"] = 2\n",
    "        if result_splited[0] == '放弃本关':\n",
    "            self.export[\"result_flag\"] = 3\n",
    "        if result_splited[0] == '超时':\n",
    "            self.export[\"result_flag\"] = 4 # '步数过多' is labeled automatically by the software. I recommend \n",
    "            # merge it into '正确', as the criteria of '步数过多' is not explicit and somewhat misleading.\n",
    "            # Subjects' performances are the same between the label \"步数过多\" and \"正确\".\n",
    "        self.export[\"box_completed\"] = int(result_splited[1][4])\n",
    "        # Attention: Sometimes the format of the logfile will change, so number of boxes completed may not be \n",
    "        # the fourth charater. Please verify this index.\n",
    "        # Sometimes the numbers of boxes completed even have not been recorded here by the software. In this \n",
    "        # situation, we have to calculate the number from the path. \n",
    "        \n",
    "        self.path = []\n",
    "        path_list = guan_soup.path.string.split(',')\n",
    "        step_time_list = guan_soup.path_time.string.split('，')\n",
    "        for direction, step_time in zip(path_list, step_time_list):\n",
    "            if direction == \"\":\n",
    "                continue\n",
    "            push_flag = 0 # using push flag to denote whether this step is pushing the boxes or just moving.\n",
    "            if len(direction) is 5:\n",
    "                push_flag = 1 \n",
    "                direction = direction[0]\n",
    "            self.path.append([direction, push_flag, step_time])\n",
    "        \n",
    "        if self.path[0][0] == '\\n':\n",
    "            return None #The following analysis is based on the paths. If the paths are empty then skip this one.\n",
    "        self.steptime = [float(x[2][:-1]) for x in self.path]\n",
    "        # To send the path to the function visitedmap, we first tranfer the directions to a string.\n",
    "        dic_letter = {'上': 'u', '下': 'd', '左': 'l', '右': 'r'}\n",
    "        pathstr = ''\n",
    "        for step in self.path:\n",
    "            letter = dic_letter[step[0]]\n",
    "            if step[1] == 1:\n",
    "                letter = letter.upper() # Using upper characters to denote pushing and lower char moving.\n",
    "            pathstr = pathstr + letter\n",
    "        self.pathstr = pathstr\n",
    "        level = guansolution[0]\n",
    "        self.level = level\n",
    "        self.track = visitedmap(level, pathstr) # calculate the subject's track of a Guan.\n",
    "        same = 0 # Variable same counts the number of the states in the optimal path reached by the subject.\n",
    "        for eachmap in guansolution[3]: \n",
    "            if eachmap in self.track:\n",
    "                same += 1\n",
    "        self.export['same_with_optimal'] = same\n",
    "        duplicates = 0 # Variable duplicates counts the number of duplicated states in the subject's path.\n",
    "        for eachmap in self.track:\n",
    "            dup_num = self.track.count(eachmap)\n",
    "            if dup_num > 1:\n",
    "                duplicates += 1\n",
    "            for i in range(dup_num):\n",
    "                self.track.remove(eachmap) # Attention: A state will only be counted once, even if the subjects \n",
    "                # pass this states for many times. This is because some players may press left and right repeatedly\n",
    "                # when they are thinking, which will create a great number of duplicated states. Actually, this \n",
    "                # behavior itself may reflect some traits of the subjects. It could be incorporated in our model \n",
    "                # in the future versions.\n",
    "        optstep = guansolution[2]\n",
    "        self.export['duplicates'] = duplicates\n",
    "        self.export['steps'] = len(self.path)\n",
    "        self.export['optstep'] = optstep\n",
    "        self.export['dsteps'] = len(self.path) - optstep\n",
    "        self.export['p_optimal'] = self.export['same_with_optimal'] / optstep\n",
    "        # Deal with step time\n",
    "        resttime = numpy.array(self.steptime[1:]) # remove the first-step time.\n",
    "        if len(resttime) <= 3: \n",
    "            return None\n",
    "        reststd = resttime.std() #calculate the standard deviation\n",
    "        self.export['rest_sd'] = reststd\n",
    "        restmean = resttime.mean()\n",
    "        self.export['num_higher_than_sd'] = len([\n",
    "            1 for x in resttime if x > restmean + reststd]) # numbers of steps which costing time higher than M+SD.\n",
    "        # I use this to denote the thinking steps.\n",
    "        self.export['rest_mean'] = numpy.array(\n",
    "            [x for x in resttime if x <= restmean + reststd]).mean() # Attention: I re-calculate the mean again after\n",
    "        # removing thinking steps. This mean can be used as the average excuting time.\n",
    "        \n",
    "    def guan_export(self, varname):\n",
    "        guan_export_str = ''\n",
    "        for var in varname:\n",
    "            if var not in self.export:\n",
    "                self.export[var] = 'NA'\n",
    "            guan_export_str = guan_export_str + ',' + str(self.export[var])\n",
    "        guan_export_str = guan_export_str + '\\n'\n",
    "        return guan_export_str"
   ]
  },
  {
   "cell_type": "markdown",
   "metadata": {},
   "source": [
    "## Start Extraction\n",
    "\n",
    "Every thing is ready. We can extract data now."
   ]
  },
  {
   "cell_type": "code",
   "execution_count": 16,
   "metadata": {
    "collapsed": false,
    "scrolled": true
   },
   "outputs": [
    {
     "name": "stdout",
     "output_type": "stream",
     "text": [
      "Done\n"
     ]
    }
   ],
   "source": [
    "stulist = []\n",
    "guansolution_list = pickle.load(open('guansolution_list.pdata', 'rb'))\n",
    "for num, folder in enumerate(folders):\n",
    "    if folder[1] == '9':            \n",
    "        logfile = open(cwd1 + os.sep + folder + os.sep + folder\n",
    "                   + '02.xml', \"r\", encoding='utf-8')\n",
    "    else:\n",
    "        logfile = open(cwd2 + os.sep + folder + os.sep + folder\n",
    "                   + '01.xml', \"r\", encoding='utf-8')\n",
    "    logfile_content = logfile.read()\n",
    "    for key in dic: # using the dictionary to translate the tags into English.\n",
    "        logfile_content = logfile_content.replace(key, dic[key])\n",
    "    data_soup = BeautifulSoup(logfile_content, 'lxml') \n",
    "    student = Student(folder, data_soup, guansolution_list)\n",
    "    stulist.append(student)\n",
    "\n",
    "\n",
    "output = open('extracted_data.csv', 'w')\n",
    "\n",
    "# Since not all instances of Guan contains all the variables (some of them may be NA), I use a tedious way to \n",
    "# extract the whole variable names.\n",
    "# A smarter way is using Class variables, as I did in [here]().\n",
    "max_len = 0\n",
    "varname = []\n",
    "for stu in stulist:\n",
    "    temp = sorted(list(stu.guan_list[0].export.keys()))\n",
    "    if max_len < len(temp):\n",
    "        max_len = len(temp)\n",
    "        varname = temp\n",
    "output.write('id,' + ','.join(varname) + '\\n') # write the variable name first.\n",
    "for stu in stulist:\n",
    "    output.write(stu.export(varname))\n",
    "output.close()\n",
    "print('Done')"
   ]
  },
  {
   "cell_type": "code",
   "execution_count": null,
   "metadata": {
    "collapsed": true
   },
   "outputs": [],
   "source": []
  }
 ],
 "metadata": {
  "kernelspec": {
   "display_name": "Python 3",
   "language": "python",
   "name": "python3"
  },
  "language_info": {
   "codemirror_mode": {
    "name": "ipython",
    "version": 3
   },
   "file_extension": ".py",
   "mimetype": "text/x-python",
   "name": "python",
   "nbconvert_exporter": "python",
   "pygments_lexer": "ipython3",
   "version": "3.6.1"
  }
 },
 "nbformat": 4,
 "nbformat_minor": 2
}
